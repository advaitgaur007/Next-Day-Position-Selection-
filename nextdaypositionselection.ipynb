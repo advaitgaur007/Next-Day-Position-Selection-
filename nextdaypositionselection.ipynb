{
 "cells": [
  {
   "cell_type": "markdown",
   "id": "f77f143c-798b-4a8d-b90a-3fae597e3c13",
   "metadata": {},
   "source": [
    "This is a classification based algorithm. It takes data from today such as OHLCV, as well values of the ATR,EMA, and CMO indicators at the day's end. Based on this data, it calculates the return of the next day. This is then sent to a classification model, which analyzes the data and tells whether a long or short position should be taken"
   ]
  },
  {
   "cell_type": "code",
   "execution_count": 1,
   "id": "7a50a705-7deb-4070-a532-7aff436d8c5f",
   "metadata": {},
   "outputs": [
    {
     "name": "stdout",
     "output_type": "stream",
     "text": [
      "Requirement already satisfied: python-dateutil in /opt/anaconda3/lib/python3.12/site-packages (2.9.0.post0)\n",
      "Requirement already satisfied: six>=1.5 in /opt/anaconda3/lib/python3.12/site-packages (from python-dateutil) (1.16.0)\n",
      "Note: you may need to restart the kernel to use updated packages.\n"
     ]
    }
   ],
   "source": [
    "pip install python-dateutil"
   ]
  },
  {
   "cell_type": "code",
   "execution_count": 72,
   "id": "6193f08a-097e-41ab-bb8d-0a75ed4afbd5",
   "metadata": {},
   "outputs": [],
   "source": [
    "#importing non sklearn libraries \n",
    "import numpy as np\n",
    "import pandas as pd\n",
    "import talib\n",
    "import yfinance as yf\n",
    "from datetime import datetime,timedelta\n",
    "from dateutil.relativedelta import relativedelta\n",
    "import joblib\n",
    "#importing sklearn libraries \n",
    "from sklearn.linear_model import LinearRegression \n",
    "from sklearn.ensemble import RandomForestClassifier,RandomForestRegressor\n",
    "from sklearn.metrics import mean_squared_error\n",
    "from sklearn.model_selection import train_test_split,cross_validate,GridSearchCV\n",
    "from sklearn.preprocessing import StandardScaler\n",
    "from sklearn.pipeline import Pipeline\n"
   ]
  },
  {
   "cell_type": "code",
   "execution_count": 73,
   "id": "82726a06-cbfb-4425-9ad7-2d5d40f99f3c",
   "metadata": {},
   "outputs": [],
   "source": [
    "def linreg(df): #linear regression - regression model \n",
    "    x=df.iloc[:,0:-1]\n",
    "    y=df.iloc[:,-1]\n",
    "    x_train,x_test,y_train,y_test=train_test_split(x,y,test_size=0.2,random_state=42)\n",
    "    pipe=Pipeline([\n",
    "        ('scaler',StandardScaler()),\n",
    "        ('linreg',LinearRegression())\n",
    "    ])\n",
    "    pipe.fit(x_train,y_train)\n",
    "    pred=pipe.predict(x_test)\n",
    "    mse=mean_squared_error(y_test,pred)\n",
    "    return pipe"
   ]
  },
  {
   "cell_type": "code",
   "execution_count": 74,
   "id": "67214b64-edd2-4c96-b4e1-5a4b590fe821",
   "metadata": {},
   "outputs": [],
   "source": [
    "def forestreg(df): #random forest regressor - regression model\n",
    "    x=df.iloc[:,0:-1]\n",
    "    y=df.iloc[:,-1]\n",
    "    x_train,x_test,y_train,y_test=train_test_split(x,y,test_size=0.2,random_state=42)\n",
    "    hyperparam={'forest__n_estimators':[1000,2000,5000]}\n",
    "    pipe=Pipeline([\n",
    "        ('scaler',StandardScaler()),\n",
    "        ('forest',RandomForestRegressor(n_jobs=-1))\n",
    "    ])\n",
    "    gs=GridSearchCV(cv=5,estimator=pipe,param_grid=hyperparam)\n",
    "    gs.fit(x_train,y_train)\n",
    "    best=gs.best_estimator_\n",
    "    best.fit(x_train,y_train)\n",
    "    pred=best.predict(x_test)\n",
    "    mse=mean_squared_error(y_test,pred)\n",
    "    return best"
   ]
  },
  {
   "cell_type": "code",
   "execution_count": 75,
   "id": "d7f4525e-9d5b-4d36-b2ef-cb7aa7a0c656",
   "metadata": {},
   "outputs": [],
   "source": [
    "def forestclas(df): #random forest classifier-classification model \n",
    "    x=df.iloc[:,0:-1]\n",
    "    y=df.iloc[:,-1]\n",
    "    x_train,x_test,y_train,y_test=train_test_split(x,y,test_size=0.2,random_state=42)\n",
    "    hyperparam={'forest__n_estimators':[1000,2000,5000]}\n",
    "    pipe=Pipeline([\n",
    "        ('scaler',StandardScaler()),\n",
    "        ('forest',RandomForestClassifier(n_jobs=-1))\n",
    "    ])\n",
    "    gs=GridSearchCV(cv=5,estimator=pipe,param_grid=hyperparam)\n",
    "    gs.fit(x_train,y_train)\n",
    "    best=gs.best_estimator_\n",
    "    best.fit(x_train,y_train)\n",
    "    pred=best.predict(x_test)\n",
    "    return best"
   ]
  },
  {
   "cell_type": "code",
   "execution_count": 76,
   "id": "e4546a52-2714-4c0d-a19c-b6ccea5709db",
   "metadata": {},
   "outputs": [],
   "source": [
    "def dataprepare(ticker,startdate,enddate):\n",
    "    \n",
    "    df=yf.download(ticker,startdate,enddate) #downloading OHLCV data from yahoo finance \n",
    "    df['CMO']=talib.CMO(df['Close'],timeperiod=20) #Calculating CMO value\n",
    "    df['EMA']=talib.EMA(df['Close'],timeperiod=20) #Calculating EMA value\n",
    "    df['ATR']=talib.ATR(df['High'],df['Low'],df['Close'],timeperiod=20) #calculating ATR value\n",
    "    df['daily_buying_return']= (df['Close']-df['Open'])/df['Open']\n",
    "    df['tomorrow_buying_return']=df['daily_buying_return'].shift(-1) #calculating tomorrow's buying return \n",
    "    df.pop('daily_buying_return')\n",
    "    df=df.dropna() #data for regression\n",
    "    df2=df.copy()\n",
    "    avg_r = df2['tomorrow_buying_return'].mean() #mean value for\n",
    "    std_r = df2['tomorrow_buying_return'].std()  #standard deviation value\n",
    "    df2['position']=np.nan\n",
    "    le= df['tomorrow_buying_return']>avg_r+std_r #condition for long entry \n",
    "    se= df['tomorrow_buying_return']<avg_r-std_r #condition for short entry \n",
    "    df2.loc[le,'position']=1\n",
    "    df2.loc[se,'position']=-1\n",
    "    df2=df2.dropna() #data for classification\n",
    "    return df,df2\n",
    "        "
   ]
  },
  {
   "cell_type": "code",
   "execution_count": null,
   "id": "86458498-8776-47cd-88dd-8561abb4b817",
   "metadata": {},
   "outputs": [],
   "source": []
  },
  {
   "cell_type": "code",
   "execution_count": 1,
   "id": "2867977b-59dc-48bc-9c37-694d54fb29dc",
   "metadata": {},
   "outputs": [],
   "source": [
    "def model():\n",
    "    ticker=input(\"Enter ticker\")\n",
    "    enddate=input(\"Enter present date in yy-mm-dd format\")\n",
    "    end_date_obj = datetime.strptime(enddate, '%Y-%m-%d')\n",
    "    start_date_obj = end_date_obj - relativedelta(years=1) #date one year from the date entered by user\n",
    "    startdate = start_date_obj.strftime('%Y-%m-%d')\n",
    "    \n",
    "    d1,d2=dataprepare(ticker,startdate,enddate)#preparing the data for regression and classification\n",
    "    \n",
    "    linregmodel=linreg(d1) #linear regression model \n",
    "    rfrmodel=forestreg(d1) #random forest regressor model\n",
    "    rfcmodel=forestclas(d2) #random forest classifier model\n",
    "\n",
    "    #saving the models\n",
    "    joblib.dump(linregmodel,'linearregressionmodel.joblib')\n",
    "    joblib.dump(rfrmodel,'forestregressormodel.joblib')\n",
    "    joblib.dump(rfcmodel,'forestclassifiermodel.joblib')\n",
    "    #loading the models\n",
    "    m1=joblib.load('linearregressionmodel.joblib')\n",
    "    m2=joblib.load('forestregressormodel.joblib')\n",
    "    m3=joblib.load('forestclassifiermodel.joblib')\n",
    "    #getting new data \n",
    "    o=float(input(\"enter today's open\"))\n",
    "    h=float(input(\"enter today's high\"))\n",
    "    l=float(input(\"enter today's low\"))\n",
    "    c=float(input(\"enter today's close\"))\n",
    "    ac=float(input(\"enter today's adjusted close\"))\n",
    "    v=float(input(\"enter today's volume\"))\n",
    "    atr=float(input(\"enter today's ATR\"))\n",
    "    ema=float(input(\"enter today's EMA\"))\n",
    "    cmo=float(input(\"enter today's CMO\"))\n",
    "    #regression predictions \n",
    "    pred1=m1.predict([[o,h,l,c,ac,v,ema,cmo,atr]])\n",
    "    pred2=m2.predict([[o,h,l,c,ac,v,ema,cmo,atr]])\n",
    "    buying_return=np.round(pred1[0]+pred2[0]/2,2)\n",
    "    print(buying_return)\n",
    "    #classification prediction\n",
    "    pred3=m3.predict([[o,h,l,c,ac,v,ema,cmo,atr,buying_return]])\n",
    "    if pred3==1:\n",
    "        print(\"Buy\")\n",
    "    else:\n",
    "        print(\"Don't Buy\")\n",
    "    "
   ]
  },
  {
   "cell_type": "code",
   "execution_count": null,
   "id": "b10274b9-4b78-4d38-85aa-521a191e2ebe",
   "metadata": {},
   "outputs": [],
   "source": [
    "def mainmenu():\n",
    "    model()\n",
    "mainmenu()"
   ]
  }
 ],
 "metadata": {
  "kernelspec": {
   "display_name": "Python 3 (ipykernel)",
   "language": "python",
   "name": "python3"
  },
  "language_info": {
   "codemirror_mode": {
    "name": "ipython",
    "version": 3
   },
   "file_extension": ".py",
   "mimetype": "text/x-python",
   "name": "python",
   "nbconvert_exporter": "python",
   "pygments_lexer": "ipython3",
   "version": "3.12.2"
  }
 },
 "nbformat": 4,
 "nbformat_minor": 5
}
